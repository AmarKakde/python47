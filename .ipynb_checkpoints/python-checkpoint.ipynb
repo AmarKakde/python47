{
 "cells": [
  {
   "cell_type": "markdown",
   "id": "995e90f2-e0ce-4a6f-a1fc-b703c8623240",
   "metadata": {},
   "source": [
    "# Basic Data Types and Variables\n"
   ]
  },
  {
   "cell_type": "code",
   "execution_count": 3,
   "id": "6607556b-20a8-4fea-b4e9-b050adc26a99",
   "metadata": {},
   "outputs": [
    {
     "name": "stdout",
     "output_type": "stream",
     "text": [
      "Addition :78,Subtraction :-30,Multiplication :1296,Division :0.444\n"
     ]
    }
   ],
   "source": [
    "#Perform addition, subtraction, multiplication, and division with two numbers.\n",
    "\n",
    "num1 = 24\n",
    "num2 = 54\n",
    "\n",
    "addition, subtraction, multiplication, division = num1 + num2, num1 - num2, num1 * num2, num1 / num2\n",
    "print(\"Addition :{},Subtraction :{},Multiplication :{},Division :{}\".format(addition, subtraction, multiplication, round(division, 3)))"
   ]
  },
  {
   "cell_type": "code",
   "execution_count": 5,
   "id": "7815a7f0-e7c4-45ed-a744-14497cc8fad0",
   "metadata": {},
   "outputs": [
    {
     "name": "stdout",
     "output_type": "stream",
     "text": [
      "firstname lastname\n"
     ]
    }
   ],
   "source": [
    "# Concatenate two strings and print the result.\n",
    "string1 = 'firstname'\n",
    "string2 = 'lastname'\n",
    "\n",
    "fullname = string1 + \" \" + string2\n",
    "print(f'{fullname}')"
   ]
  },
  {
   "cell_type": "code",
   "execution_count": 17,
   "id": "f50bd2cf-8b8c-4a8f-adc0-765517aef7a7",
   "metadata": {},
   "outputs": [
    {
     "name": "stdout",
     "output_type": "stream",
     "text": [
      "numbers=[1, 2, 3, 4, 5, 6]\n",
      "numbers list : [1, 2, 3, 4, 5, 6, 10]\n",
      "Numbers List: [2, 3, 4, 5, 6, 10]\n"
     ]
    }
   ],
   "source": [
    "# Create a list of integers, append a number, remove a number, and print the list.\n",
    "numbers = [1,2,3,4,5,6]\n",
    "print(f'{numbers=}')\n",
    "\n",
    "numbers.append(10)\n",
    "print('numbers list : {}'.format(numbers))\n",
    "\n",
    "numbers.remove(1)\n",
    "print('Numbers List: {}'.format(numbers))"
   ]
  },
  {
   "cell_type": "code",
   "execution_count": 19,
   "id": "2ab72142-f651-418c-a79b-98903dd9f0c2",
   "metadata": {},
   "outputs": [
    {
     "name": "stdout",
     "output_type": "stream",
     "text": [
      "1\n",
      "2\n",
      "3\n",
      "4\n"
     ]
    }
   ],
   "source": [
    "# Create a tuple with four elements and print each element.\n",
    "numbers = (1,2,3,4,)\n",
    "\n",
    "print(numbers[0])\n",
    "print(numbers[1])\n",
    "print(numbers[2])\n",
    "print(numbers[3])"
   ]
  },
  {
   "cell_type": "code",
   "execution_count": 21,
   "id": "8dd5b265-9372-4eb4-882c-f9d222da9aac",
   "metadata": {},
   "outputs": [
    {
     "name": "stdout",
     "output_type": "stream",
     "text": [
      "dct={'id': 101, 'name': 'Bradd Brandon', 'age': 29}\n",
      "After update: dct={'id': 501, 'name': 'Bradd Brandon', 'age': 29}\n"
     ]
    }
   ],
   "source": [
    "# Create a dictionary with three key-value pairs and update one value.\n",
    "dct = {'id':101, 'name':'Bradd Brandon', 'age':29}\n",
    "print(f\"{dct=}\")\n",
    "dct['id'] = 501\n",
    "print(f'After update: {dct=}')"
   ]
  },
  {
   "cell_type": "code",
   "execution_count": 27,
   "id": "577ea605-e244-4429-b550-bc32544133c4",
   "metadata": {},
   "outputs": [
    {
     "name": "stdout",
     "output_type": "stream",
     "text": [
      "adadadaadjasodjajdadjasodjajsdasoidjas contains substring ad True\n"
     ]
    }
   ],
   "source": [
    "# Check if a string contains a specific substring.\n",
    "string1 = 'adadadaadjasodjajdadjasodjajsdasoidjas'\n",
    "result = string1.find('ad')\n",
    "print(f'{string1} contains substring ad {False if result == -1 else True}')"
   ]
  },
  {
   "cell_type": "code",
   "execution_count": null,
   "id": "dbf5fba9-249c-4349-a02b-d14b98d9f8db",
   "metadata": {},
   "outputs": [],
   "source": []
  },
  {
   "cell_type": "markdown",
   "id": "7a7a6478-08eb-41b6-b8b8-8f56b515d8b2",
   "metadata": {},
   "source": [
    "# Control Flow"
   ]
  },
  {
   "cell_type": "code",
   "execution_count": 28,
   "id": "3c0b3542-e38f-4597-b3af-a1ea38e512c2",
   "metadata": {},
   "outputs": [
    {
     "name": "stdout",
     "output_type": "stream",
     "text": [
      "Positive\n"
     ]
    }
   ],
   "source": [
    "# Check if a number is positive, negative, or zero using if-else statements.\n",
    "number = 23\n",
    "\n",
    "if number == 0:\n",
    "    print('Zero')\n",
    "elif result < 0:\n",
    "    print('Negative')\n",
    "else:\n",
    "    print('Positive')"
   ]
  },
  {
   "cell_type": "code",
   "execution_count": 29,
   "id": "c468ba00-dfb5-418e-9937-867cc7c36a46",
   "metadata": {},
   "outputs": [
    {
     "name": "stdout",
     "output_type": "stream",
     "text": [
      "number=2 is even\n",
      "number=4 is even\n",
      "number=6 is even\n",
      "number=8 is even\n",
      "number=10 is even\n",
      "number=12 is even\n",
      "number=14 is even\n",
      "number=16 is even\n",
      "number=18 is even\n",
      "number=20 is even\n",
      "number=22 is even\n",
      "number=24 is even\n",
      "number=26 is even\n",
      "number=28 is even\n",
      "number=30 is even\n",
      "number=32 is even\n",
      "number=34 is even\n",
      "number=36 is even\n",
      "number=38 is even\n",
      "number=40 is even\n",
      "number=42 is even\n",
      "number=44 is even\n",
      "number=46 is even\n",
      "number=48 is even\n",
      "number=50 is even\n",
      "number=52 is even\n",
      "number=54 is even\n",
      "number=56 is even\n",
      "number=58 is even\n",
      "number=60 is even\n",
      "number=62 is even\n",
      "number=64 is even\n",
      "number=66 is even\n",
      "number=68 is even\n",
      "number=70 is even\n",
      "number=72 is even\n",
      "number=74 is even\n",
      "number=76 is even\n",
      "number=78 is even\n",
      "number=80 is even\n",
      "number=82 is even\n",
      "number=84 is even\n",
      "number=86 is even\n",
      "number=88 is even\n",
      "number=90 is even\n",
      "number=92 is even\n",
      "number=94 is even\n",
      "number=96 is even\n",
      "number=98 is even\n",
      "number=100 is even\n"
     ]
    }
   ],
   "source": [
    "# Print all even numbers from 1 to 100 using a for loop.\n",
    "for number in range(1, 101):\n",
    "    if number % 2 == 0:\n",
    "        print(f'{number=} is even')"
   ]
  },
  {
   "cell_type": "code",
   "execution_count": 31,
   "id": "02781c5d-5ed8-4654-a97e-d8140ea3c371",
   "metadata": {},
   "outputs": [
    {
     "name": "stdout",
     "output_type": "stream",
     "text": [
      "sum of all numbers in numbers=[1, 2, 3, 4, 56, 7, 1, 2, 22, 4, 443] is sum=545\n"
     ]
    }
   ],
   "source": [
    "# Calculate the sum of all numbers in a list using a for loop.\n",
    "numbers = [1,2,3,4,56,7,1,2,22,4,443,]\n",
    "\n",
    "sum = 0\n",
    "for num in numbers:\n",
    "    sum += num\n",
    "print(f'sum of all numbers in {numbers=} is sum={sum}')"
   ]
  },
  {
   "cell_type": "code",
   "execution_count": 32,
   "id": "0404fe0b-cbb9-4bc5-987c-4458e23f8fd1",
   "metadata": {},
   "outputs": [
    {
     "name": "stdout",
     "output_type": "stream",
     "text": [
      "Maximum :443, Minimum :1\n"
     ]
    }
   ],
   "source": [
    "# Find the maximum and minimum numbers in a list using a for loop.\n",
    "numbers = [1,2,3,4,56,7,1,2,22,4,443,]\n",
    "\n",
    "max = numbers[0]\n",
    "min = numbers[0]\n",
    "for num in numbers:\n",
    "    if num > max:\n",
    "        max = num\n",
    "    if num < min:\n",
    "        min = num\n",
    "print(\"Maximum :{}, Minimum :{}\".format(max, min))"
   ]
  },
  {
   "cell_type": "code",
   "execution_count": 39,
   "id": "03b85c25-87ac-40f4-8595-b68e2d45b585",
   "metadata": {},
   "outputs": [
    {
     "name": "stdout",
     "output_type": "stream",
     "text": [
      "0 1 1 2 3 5 8 13 21 34 "
     ]
    }
   ],
   "source": [
    "# Print the first 10 Fibonacci numbers using a while loop.\n",
    "a, b = 0, 1\n",
    "iter = 1\n",
    "while iter <= 10:\n",
    "    print(f'{a}', end=' ')\n",
    "    a, b = b, a + b\n",
    "    iter += 1"
   ]
  },
  {
   "cell_type": "code",
   "execution_count": 41,
   "id": "175b43ff-2c27-4e55-a1ce-5334a9609572",
   "metadata": {},
   "outputs": [
    {
     "name": "stdout",
     "output_type": "stream",
     "text": [
      "prime number: False\n"
     ]
    }
   ],
   "source": [
    "# Check if a number is prime using a for loop and if-else statements.\n",
    "\n",
    "def isPrime(number):\n",
    "    if number < 2:\n",
    "        return False\n",
    "    if number == 2:\n",
    "        return True\n",
    "    for num in range(2, (number//2)+1):\n",
    "        if number % num == 0:\n",
    "            return False\n",
    "    return True\n",
    "\n",
    "result = isPrime(124)\n",
    "print('prime number: {}'.format(result))"
   ]
  },
  {
   "cell_type": "code",
   "execution_count": 54,
   "id": "2e5c415a-ecd5-4bfe-ba80-c7dae5612add",
   "metadata": {},
   "outputs": [
    {
     "name": "stdout",
     "output_type": "stream",
     "text": [
      " 1   2   3   4   5   6   7   8   9   10 \n",
      "\n",
      " 2   4   6   8   10  12  14  16  18  20 \n",
      "\n",
      " 3   6   9   12  15  18  21  24  27  30 \n",
      "\n",
      " 4   8   12  16  20  24  28  32  36  40 \n",
      "\n",
      " 5   10  15  20  25  30  35  40  45  50 \n",
      "\n",
      " 6   12  18  24  30  36  42  48  54  60 \n",
      "\n",
      " 7   14  21  28  35  42  49  56  63  70 \n",
      "\n",
      " 8   16  24  32  40  48  56  64  72  80 \n",
      "\n",
      " 9   18  27  36  45  54  63  72  81  90 \n",
      "\n"
     ]
    }
   ],
   "source": [
    "# Use nested loops to print a multiplication table from 1 to 10.\n",
    "def multiplication_table(number):\n",
    "    for num in range(1,number):\n",
    "        for multiplier in range(1,11):\n",
    "            result = str.center(str(num*multiplier), 3)\n",
    "            print(f\"{result}\", end=' ')\n",
    "        print('\\n')\n",
    "        \n",
    "multiplication_table(10)"
   ]
  },
  {
   "cell_type": "code",
   "execution_count": 57,
   "id": "44b8f077-80cd-4b50-8712-b255f7119637",
   "metadata": {},
   "outputs": [
    {
     "name": "stdout",
     "output_type": "stream",
     "text": [
      "1 2 Fizz 4 Buzz Fizz 7 8 Fizz Buzz 11 Fizz 13 14 Fizz Buzz 16 17 Fizz 19 Buzz Fizz 22 23 Fizz Buzz 26 Fizz 28 29 Fizz Buzz 31 32 Fizz 34 Buzz Fizz 37 38 Fizz Buzz 41 Fizz 43 44 Fizz Buzz 46 47 Fizz 49 Buzz Fizz 52 53 Fizz Buzz 56 Fizz 58 59 Fizz Buzz 61 62 Fizz 64 Buzz Fizz 67 68 Fizz Buzz 71 Fizz 73 74 Fizz Buzz 76 77 Fizz 79 Buzz Fizz 82 83 Fizz Buzz 86 Fizz 88 89 Fizz Buzz 91 92 Fizz 94 Buzz Fizz 97 98 Fizz Buzz "
     ]
    }
   ],
   "source": [
    "# Print numbers from 1 to 100, but for multiples of 3 print \"Fizz\" and for multiples of 5 print \"Buzz\".\n",
    "def fizz_3_buzz_5():\n",
    "    for num in range(1, 101):\n",
    "        if num % 3 == 0:\n",
    "            print('Fizz', end=' ')\n",
    "        if num % 5 == 0:\n",
    "            print('Buzz', end=' ')\n",
    "        if  num % 3 != 0 and num % 5 != 0:\n",
    "            print(num, end=' ')\n",
    "fizz_3_buzz_5()"
   ]
  },
  {
   "cell_type": "code",
   "execution_count": null,
   "id": "cdebd5db-2627-4262-940a-ef3444953879",
   "metadata": {},
   "outputs": [],
   "source": []
  }
 ],
 "metadata": {
  "kernelspec": {
   "display_name": "Python 3 (ipykernel)",
   "language": "python",
   "name": "python3"
  },
  "language_info": {
   "codemirror_mode": {
    "name": "ipython",
    "version": 3
   },
   "file_extension": ".py",
   "mimetype": "text/x-python",
   "name": "python",
   "nbconvert_exporter": "python",
   "pygments_lexer": "ipython3",
   "version": "3.11.5"
  },
  "widgets": {
   "application/vnd.jupyter.widget-state+json": {
    "state": {},
    "version_major": 2,
    "version_minor": 0
   }
  }
 },
 "nbformat": 4,
 "nbformat_minor": 5
}
