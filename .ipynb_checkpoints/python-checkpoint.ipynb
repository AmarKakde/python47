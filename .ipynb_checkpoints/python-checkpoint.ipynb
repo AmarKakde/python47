{
 "cells": [
  {
   "cell_type": "markdown",
   "id": "995e90f2-e0ce-4a6f-a1fc-b703c8623240",
   "metadata": {},
   "source": [
    "# Basic Data Types and Variables\n"
   ]
  },
  {
   "cell_type": "code",
   "execution_count": 3,
   "id": "6607556b-20a8-4fea-b4e9-b050adc26a99",
   "metadata": {},
   "outputs": [
    {
     "name": "stdout",
     "output_type": "stream",
     "text": [
      "Addition :78,Subtraction :-30,Multiplication :1296,Division :0.444\n"
     ]
    }
   ],
   "source": [
    "#Perform addition, subtraction, multiplication, and division with two numbers.\n",
    "\n",
    "num1 = 24\n",
    "num2 = 54\n",
    "\n",
    "addition, subtraction, multiplication, division = num1 + num2, num1 - num2, num1 * num2, num1 / num2\n",
    "print(\"Addition :{},Subtraction :{},Multiplication :{},Division :{}\".format(addition, subtraction, multiplication, round(division, 3)))"
   ]
  },
  {
   "cell_type": "code",
   "execution_count": 5,
   "id": "7815a7f0-e7c4-45ed-a744-14497cc8fad0",
   "metadata": {},
   "outputs": [
    {
     "name": "stdout",
     "output_type": "stream",
     "text": [
      "firstname lastname\n"
     ]
    }
   ],
   "source": [
    "# Concatenate two strings and print the result.\n",
    "string1 = 'firstname'\n",
    "string2 = 'lastname'\n",
    "\n",
    "fullname = string1 + \" \" + string2\n",
    "print(f'{fullname}')"
   ]
  },
  {
   "cell_type": "code",
   "execution_count": 17,
   "id": "f50bd2cf-8b8c-4a8f-adc0-765517aef7a7",
   "metadata": {},
   "outputs": [
    {
     "name": "stdout",
     "output_type": "stream",
     "text": [
      "numbers=[1, 2, 3, 4, 5, 6]\n",
      "numbers list : [1, 2, 3, 4, 5, 6, 10]\n",
      "Numbers List: [2, 3, 4, 5, 6, 10]\n"
     ]
    }
   ],
   "source": [
    "# Create a list of integers, append a number, remove a number, and print the list.\n",
    "numbers = [1,2,3,4,5,6]\n",
    "print(f'{numbers=}')\n",
    "\n",
    "numbers.append(10)\n",
    "print('numbers list : {}'.format(numbers))\n",
    "\n",
    "numbers.remove(1)\n",
    "print('Numbers List: {}'.format(numbers))"
   ]
  },
  {
   "cell_type": "code",
   "execution_count": 19,
   "id": "2ab72142-f651-418c-a79b-98903dd9f0c2",
   "metadata": {},
   "outputs": [
    {
     "name": "stdout",
     "output_type": "stream",
     "text": [
      "1\n",
      "2\n",
      "3\n",
      "4\n"
     ]
    }
   ],
   "source": [
    "# Create a tuple with four elements and print each element.\n",
    "numbers = (1,2,3,4,)\n",
    "\n",
    "print(numbers[0])\n",
    "print(numbers[1])\n",
    "print(numbers[2])\n",
    "print(numbers[3])"
   ]
  },
  {
   "cell_type": "code",
   "execution_count": 21,
   "id": "8dd5b265-9372-4eb4-882c-f9d222da9aac",
   "metadata": {},
   "outputs": [
    {
     "name": "stdout",
     "output_type": "stream",
     "text": [
      "dct={'id': 101, 'name': 'Bradd Brandon', 'age': 29}\n",
      "After update: dct={'id': 501, 'name': 'Bradd Brandon', 'age': 29}\n"
     ]
    }
   ],
   "source": [
    "# Create a dictionary with three key-value pairs and update one value.\n",
    "dct = {'id':101, 'name':'Bradd Brandon', 'age':29}\n",
    "print(f\"{dct=}\")\n",
    "dct['id'] = 501\n",
    "print(f'After update: {dct=}')"
   ]
  },
  {
   "cell_type": "code",
   "execution_count": 27,
   "id": "577ea605-e244-4429-b550-bc32544133c4",
   "metadata": {},
   "outputs": [
    {
     "name": "stdout",
     "output_type": "stream",
     "text": [
      "adadadaadjasodjajdadjasodjajsdasoidjas contains substring ad True\n"
     ]
    }
   ],
   "source": [
    "# Check if a string contains a specific substring.\n",
    "string1 = 'adadadaadjasodjajdadjasodjajsdasoidjas'\n",
    "result = string1.find('ad')\n",
    "print(f'{string1} contains substring ad {False if result == -1 else True}')"
   ]
  },
  {
   "cell_type": "code",
   "execution_count": null,
   "id": "dbf5fba9-249c-4349-a02b-d14b98d9f8db",
   "metadata": {},
   "outputs": [],
   "source": []
  },
  {
   "cell_type": "markdown",
   "id": "7a7a6478-08eb-41b6-b8b8-8f56b515d8b2",
   "metadata": {},
   "source": [
    "# Control Flow"
   ]
  },
  {
   "cell_type": "code",
   "execution_count": 28,
   "id": "3c0b3542-e38f-4597-b3af-a1ea38e512c2",
   "metadata": {},
   "outputs": [
    {
     "name": "stdout",
     "output_type": "stream",
     "text": [
      "Positive\n"
     ]
    }
   ],
   "source": [
    "# Check if a number is positive, negative, or zero using if-else statements.\n",
    "number = 23\n",
    "\n",
    "if number == 0:\n",
    "    print('Zero')\n",
    "elif result < 0:\n",
    "    print('Negative')\n",
    "else:\n",
    "    print('Positive')"
   ]
  },
  {
   "cell_type": "code",
   "execution_count": 29,
   "id": "c468ba00-dfb5-418e-9937-867cc7c36a46",
   "metadata": {},
   "outputs": [
    {
     "name": "stdout",
     "output_type": "stream",
     "text": [
      "number=2 is even\n",
      "number=4 is even\n",
      "number=6 is even\n",
      "number=8 is even\n",
      "number=10 is even\n",
      "number=12 is even\n",
      "number=14 is even\n",
      "number=16 is even\n",
      "number=18 is even\n",
      "number=20 is even\n",
      "number=22 is even\n",
      "number=24 is even\n",
      "number=26 is even\n",
      "number=28 is even\n",
      "number=30 is even\n",
      "number=32 is even\n",
      "number=34 is even\n",
      "number=36 is even\n",
      "number=38 is even\n",
      "number=40 is even\n",
      "number=42 is even\n",
      "number=44 is even\n",
      "number=46 is even\n",
      "number=48 is even\n",
      "number=50 is even\n",
      "number=52 is even\n",
      "number=54 is even\n",
      "number=56 is even\n",
      "number=58 is even\n",
      "number=60 is even\n",
      "number=62 is even\n",
      "number=64 is even\n",
      "number=66 is even\n",
      "number=68 is even\n",
      "number=70 is even\n",
      "number=72 is even\n",
      "number=74 is even\n",
      "number=76 is even\n",
      "number=78 is even\n",
      "number=80 is even\n",
      "number=82 is even\n",
      "number=84 is even\n",
      "number=86 is even\n",
      "number=88 is even\n",
      "number=90 is even\n",
      "number=92 is even\n",
      "number=94 is even\n",
      "number=96 is even\n",
      "number=98 is even\n",
      "number=100 is even\n"
     ]
    }
   ],
   "source": [
    "# Print all even numbers from 1 to 100 using a for loop.\n",
    "for number in range(1, 101):\n",
    "    if number % 2 == 0:\n",
    "        print(f'{number=} is even')"
   ]
  },
  {
   "cell_type": "code",
   "execution_count": 31,
   "id": "02781c5d-5ed8-4654-a97e-d8140ea3c371",
   "metadata": {},
   "outputs": [
    {
     "name": "stdout",
     "output_type": "stream",
     "text": [
      "sum of all numbers in numbers=[1, 2, 3, 4, 56, 7, 1, 2, 22, 4, 443] is sum=545\n"
     ]
    }
   ],
   "source": [
    "# Calculate the sum of all numbers in a list using a for loop.\n",
    "numbers = [1,2,3,4,56,7,1,2,22,4,443,]\n",
    "\n",
    "sum = 0\n",
    "for num in numbers:\n",
    "    sum += num\n",
    "print(f'sum of all numbers in {numbers=} is sum={sum}')"
   ]
  },
  {
   "cell_type": "code",
   "execution_count": 32,
   "id": "0404fe0b-cbb9-4bc5-987c-4458e23f8fd1",
   "metadata": {},
   "outputs": [
    {
     "name": "stdout",
     "output_type": "stream",
     "text": [
      "Maximum :443, Minimum :1\n"
     ]
    }
   ],
   "source": [
    "# Find the maximum and minimum numbers in a list using a for loop.\n",
    "numbers = [1,2,3,4,56,7,1,2,22,4,443,]\n",
    "\n",
    "max = numbers[0]\n",
    "min = numbers[0]\n",
    "for num in numbers:\n",
    "    if num > max:\n",
    "        max = num\n",
    "    if num < min:\n",
    "        min = num\n",
    "print(\"Maximum :{}, Minimum :{}\".format(max, min))"
   ]
  },
  {
   "cell_type": "code",
   "execution_count": 39,
   "id": "03b85c25-87ac-40f4-8595-b68e2d45b585",
   "metadata": {},
   "outputs": [
    {
     "name": "stdout",
     "output_type": "stream",
     "text": [
      "0 1 1 2 3 5 8 13 21 34 "
     ]
    }
   ],
   "source": [
    "# Print the first 10 Fibonacci numbers using a while loop.\n",
    "a, b = 0, 1\n",
    "iter = 1\n",
    "while iter <= 10:\n",
    "    print(f'{a}', end=' ')\n",
    "    a, b = b, a + b\n",
    "    iter += 1"
   ]
  },
  {
   "cell_type": "code",
   "execution_count": 41,
   "id": "175b43ff-2c27-4e55-a1ce-5334a9609572",
   "metadata": {},
   "outputs": [
    {
     "name": "stdout",
     "output_type": "stream",
     "text": [
      "prime number: False\n"
     ]
    }
   ],
   "source": [
    "# Check if a number is prime using a for loop and if-else statements.\n",
    "\n",
    "def isPrime(number):\n",
    "    if number < 2:\n",
    "        return False\n",
    "    if number == 2:\n",
    "        return True\n",
    "    for num in range(2, (number//2)+1):\n",
    "        if number % num == 0:\n",
    "            return False\n",
    "    return True\n",
    "\n",
    "result = isPrime(124)\n",
    "print('prime number: {}'.format(result))"
   ]
  },
  {
   "cell_type": "code",
   "execution_count": 54,
   "id": "2e5c415a-ecd5-4bfe-ba80-c7dae5612add",
   "metadata": {},
   "outputs": [
    {
     "name": "stdout",
     "output_type": "stream",
     "text": [
      " 1   2   3   4   5   6   7   8   9   10 \n",
      "\n",
      " 2   4   6   8   10  12  14  16  18  20 \n",
      "\n",
      " 3   6   9   12  15  18  21  24  27  30 \n",
      "\n",
      " 4   8   12  16  20  24  28  32  36  40 \n",
      "\n",
      " 5   10  15  20  25  30  35  40  45  50 \n",
      "\n",
      " 6   12  18  24  30  36  42  48  54  60 \n",
      "\n",
      " 7   14  21  28  35  42  49  56  63  70 \n",
      "\n",
      " 8   16  24  32  40  48  56  64  72  80 \n",
      "\n",
      " 9   18  27  36  45  54  63  72  81  90 \n",
      "\n"
     ]
    }
   ],
   "source": [
    "# Use nested loops to print a multiplication table from 1 to 10.\n",
    "def multiplication_table(number):\n",
    "    for num in range(1,number):\n",
    "        for multiplier in range(1,11):\n",
    "            result = str.center(str(num*multiplier), 3)\n",
    "            print(f\"{result}\", end=' ')\n",
    "        print('\\n')\n",
    "        \n",
    "multiplication_table(10)"
   ]
  },
  {
   "cell_type": "code",
   "execution_count": 57,
   "id": "44b8f077-80cd-4b50-8712-b255f7119637",
   "metadata": {},
   "outputs": [
    {
     "name": "stdout",
     "output_type": "stream",
     "text": [
      "1 2 Fizz 4 Buzz Fizz 7 8 Fizz Buzz 11 Fizz 13 14 Fizz Buzz 16 17 Fizz 19 Buzz Fizz 22 23 Fizz Buzz 26 Fizz 28 29 Fizz Buzz 31 32 Fizz 34 Buzz Fizz 37 38 Fizz Buzz 41 Fizz 43 44 Fizz Buzz 46 47 Fizz 49 Buzz Fizz 52 53 Fizz Buzz 56 Fizz 58 59 Fizz Buzz 61 62 Fizz 64 Buzz Fizz 67 68 Fizz Buzz 71 Fizz 73 74 Fizz Buzz 76 77 Fizz 79 Buzz Fizz 82 83 Fizz Buzz 86 Fizz 88 89 Fizz Buzz 91 92 Fizz 94 Buzz Fizz 97 98 Fizz Buzz "
     ]
    }
   ],
   "source": [
    "# Print numbers from 1 to 100, but for multiples of 3 print \"Fizz\" and for multiples of 5 print \"Buzz\".\n",
    "def fizz_3_buzz_5():\n",
    "    for num in range(1, 101):\n",
    "        if num % 3 == 0:\n",
    "            print('Fizz', end=' ')\n",
    "        if num % 5 == 0:\n",
    "            print('Buzz', end=' ')\n",
    "        if  num % 3 != 0 and num % 5 != 0:\n",
    "            print(num, end=' ')\n",
    "fizz_3_buzz_5()"
   ]
  },
  {
   "cell_type": "code",
   "execution_count": null,
   "id": "cdebd5db-2627-4262-940a-ef3444953879",
   "metadata": {},
   "outputs": [],
   "source": []
  },
  {
   "cell_type": "markdown",
   "id": "ce97a175-5022-4e39-b38d-1b610aceffe3",
   "metadata": {},
   "source": [
    "# Functions"
   ]
  },
  {
   "cell_type": "code",
   "execution_count": 71,
   "id": "c4e4127e-d9dc-4091-acfa-c8a186cd5f5c",
   "metadata": {},
   "outputs": [
    {
     "name": "stdout",
     "output_type": "stream",
     "text": [
      "4789142901463393876335775239063022722176295591337767174070096339929153381622433264146569329274347655956110484372311586936020749175429076661003216274382475477806479918110524333880196139452687559896255940215628508414806740389616633144934400000000000000000000000000000000000000\n"
     ]
    }
   ],
   "source": [
    "# Write a function to return the factorial of a number.\n",
    "from functools import cache\n",
    "\n",
    "@cache\n",
    "def factorial(number):\n",
    "    if number == 1:\n",
    "        return 1\n",
    "    return number * factorial(number-1)\n",
    "print(\"{}\".format(factorial(155)))"
   ]
  },
  {
   "cell_type": "code",
   "execution_count": 74,
   "id": "8b19ce92-d66d-440f-b254-353ce2bd8b71",
   "metadata": {},
   "outputs": [
    {
     "name": "stdout",
     "output_type": "stream",
     "text": [
      "evenList=[0, 2, 4, 6, 8, 10]\n"
     ]
    }
   ],
   "source": [
    "# Write a function that takes a list and returns a new list with only the even numbers.\n",
    "\n",
    "def return_even_list(lst:list)->list:\n",
    "    newList = [value for value in lst if value % 2 == 0]\n",
    "    return newList\n",
    "\n",
    "lst = [value for value in range(11)]\n",
    "evenList = return_even_list(lst)\n",
    "print(f'{evenList=}')"
   ]
  },
  {
   "cell_type": "code",
   "execution_count": 79,
   "id": "fd3cd281-edfb-47b9-bbae-9be97c89ead5",
   "metadata": {},
   "outputs": [
    {
     "name": "stdout",
     "output_type": "stream",
     "text": [
      "True\n"
     ]
    }
   ],
   "source": [
    "# Write a function that checks if a string is a palindrome.\n",
    "def isPalindrome(inputString:str)->bool:\n",
    "    inputStringList = list(inputString)\n",
    "    inputStringList.reverse()\n",
    "    reverseInputString = ''.join(inputStringList)\n",
    "\n",
    "    if inputString.lower() == reverseInputString.lower():\n",
    "        return True\n",
    "    return False\n",
    "\n",
    "print('{}'.format(isPalindrome('nAN')))"
   ]
  },
  {
   "cell_type": "code",
   "execution_count": 83,
   "id": "3e6428b0-9db7-46cc-ac1f-0945c6cf05cf",
   "metadata": {},
   "outputs": [
    {
     "name": "stdout",
     "output_type": "stream",
     "text": [
      "45558,135: devisor 9\n"
     ]
    }
   ],
   "source": [
    "# Write a function that takes two numbers and returns their greatest common divisor (GCD).\n",
    "\n",
    "def gcd(num1:int, num2:int)->int:\n",
    "    min = num1 if num1 < num2 else num2\n",
    "\n",
    "    devisor = min\n",
    "\n",
    "    while devisor >= 1:\n",
    "        if num1 % devisor == 0 and num2 % devisor == 0:\n",
    "            return devisor\n",
    "        devisor -= 1\n",
    "    return devisor\n",
    "num1 = 45558\n",
    "num2 = 135\n",
    "print('{},{}: devisor {}'.format(num1, num2, gcd(num1, num2)))"
   ]
  },
  {
   "cell_type": "code",
   "execution_count": 86,
   "id": "3c60a07d-8abd-4372-945d-794bf8f6a5d3",
   "metadata": {},
   "outputs": [
    {
     "name": "stdout",
     "output_type": "stream",
     "text": [
      "28\n"
     ]
    }
   ],
   "source": [
    "# Write a function that returns the sum of all numbers in a list.\n",
    "def sum_of_all_elements(lst:list):\n",
    "    sum = 0\n",
    "    for _ in lst:\n",
    "        sum += _\n",
    "    return sum\n",
    "\n",
    "print(sum_of_all_elements([1,2,3,4,5,6,7]))"
   ]
  },
  {
   "cell_type": "code",
   "execution_count": 88,
   "id": "0725ca6e-dd9a-4ef0-9d62-5b13cdccb800",
   "metadata": {},
   "outputs": [
    {
     "name": "stdout",
     "output_type": "stream",
     "text": [
      "8\n"
     ]
    }
   ],
   "source": [
    "# Write a function that takes a string and returns the number of vowels in the string.\n",
    "def number_of_vowels(string:str)->int:\n",
    "    countVowels = 0\n",
    "    for _ in string:\n",
    "        if _ in ['a', 'e', 'i', 'o', 'u']:\n",
    "            countVowels += 1\n",
    "    return countVowels\n",
    "print(number_of_vowels('afjaofafkadadasdad'))"
   ]
  },
  {
   "cell_type": "code",
   "execution_count": 95,
   "id": "03bafd3a-f161-4e47-a2b2-4345415fa215",
   "metadata": {},
   "outputs": [
    {
     "name": "stdout",
     "output_type": "stream",
     "text": [
      "0\n",
      "12\n",
      "46\n",
      "46\n",
      "357\n"
     ]
    }
   ],
   "source": [
    "# Write a function with default arguments.\n",
    "def addition(num1 = 0, num2 = 0):\n",
    "    return num1 + num2\n",
    "print(addition())\n",
    "print(addition(12))\n",
    "print(addition(12, 34))\n",
    "print(addition(num2=12, num1=34))\n",
    "print(addition(12, num2=345))"
   ]
  },
  {
   "cell_type": "code",
   "execution_count": 97,
   "id": "8a2bd660-63cc-46ce-9ca7-0a69c1ec3606",
   "metadata": {},
   "outputs": [
    {
     "name": "stdout",
     "output_type": "stream",
     "text": [
      "elpmas\n"
     ]
    }
   ],
   "source": [
    "# Write a function that returns the reverse of a string.\n",
    "def reverse_string(string:str)->str:\n",
    "    reverseString = ''\n",
    "    for index in range(-1, -(len(string)+1), -1):\n",
    "        reverseString += string[index]\n",
    "    return reverseString\n",
    "\n",
    "print(reverse_string('sample'))"
   ]
  },
  {
   "cell_type": "markdown",
   "id": "36af32fc-7347-479c-b751-50c19e45f2e4",
   "metadata": {},
   "source": [
    "# Collections"
   ]
  },
  {
   "cell_type": "code",
   "execution_count": 98,
   "id": "8e5fe623-8e21-43d9-82af-e8884d6389bc",
   "metadata": {},
   "outputs": [
    {
     "name": "stdout",
     "output_type": "stream",
     "text": [
      "[1, 4, 9, 16, 25, 36, 49, 64, 81, 100]\n"
     ]
    }
   ],
   "source": [
    "# Use list comprehension to create a list of squares of numbers from 1 to 10.\n",
    "listSquaredNumbers = [num**2 for num in range(1,11)]\n",
    "print(listSquaredNumbers)"
   ]
  },
  {
   "cell_type": "code",
   "execution_count": 99,
   "id": "16599580-20c6-4785-9b33-2444777df98e",
   "metadata": {},
   "outputs": [
    {
     "name": "stdout",
     "output_type": "stream",
     "text": [
      "[0, 1, 2, 3, 4, 5, 6, 7, 8, 9, 10]\n"
     ]
    }
   ],
   "source": [
    "# Use list comprehension to filter out negative numbers from a list.\n",
    "filterOutNegativeNumbers = [num for num in range(-10, 11) if num >= 0]\n",
    "print(filterOutNegativeNumbers)"
   ]
  },
  {
   "cell_type": "code",
   "execution_count": 100,
   "id": "7a52ee25-5a5a-4807-9c5c-5119c34d521e",
   "metadata": {},
   "outputs": [
    {
     "name": "stdout",
     "output_type": "stream",
     "text": [
      "{1, 2, 3, 4, 5, 6, 7, 8, 9}\n"
     ]
    }
   ],
   "source": [
    "# Create a set from a list to remove duplicate elements.\n",
    "lst = [1,1,2,3,5,6,7,8,9,5,6,4,]\n",
    "print(set(lst))"
   ]
  },
  {
   "cell_type": "code",
   "execution_count": 106,
   "id": "be7c0121-c31c-491f-8298-fe25f8d05fff",
   "metadata": {},
   "outputs": [
    {
     "name": "stdout",
     "output_type": "stream",
     "text": [
      "{101: 'a', 102: 'b', 103: 'c', 104: 'd', 105: 'e'}\n"
     ]
    }
   ],
   "source": [
    "# Create a dictionary from two lists: one with keys and one with values.\n",
    "lst1 = [101, 102, 103, 104, 105]\n",
    "lst2 = ['a', 'b', 'c', 'd', 'e']\n",
    "dct = {}\n",
    "for key, value in zip(lst1, lst2):\n",
    "    dct[key] = value\n",
    "\n",
    "print(dct)"
   ]
  },
  {
   "cell_type": "code",
   "execution_count": 107,
   "id": "91d538e3-c094-42c5-91ae-164f9a731095",
   "metadata": {},
   "outputs": [
    {
     "name": "stdout",
     "output_type": "stream",
     "text": [
      "{101: 'a', 102: 'b', 103: 'c'}\n"
     ]
    }
   ],
   "source": [
    "# Write a function to merge two dictionaries.\n",
    "def merge_2_dict(dct1:dict, dct2:dict)->dict:\n",
    "    firstDict = dct1.copy()\n",
    "    for key, value in dct2.items():\n",
    "        firstDict[key] = value\n",
    "    return firstDict\n",
    "print(merge_2_dict({101:'a'}, {102:'b', 103:'c'}))"
   ]
  },
  {
   "cell_type": "code",
   "execution_count": 111,
   "id": "cf41a0a9-a9d3-41c8-894b-e41aae2a2b06",
   "metadata": {},
   "outputs": [
    {
     "name": "stdout",
     "output_type": "stream",
     "text": [
      "([101, 102, 103], ['a', 'b', 'c'])\n"
     ]
    }
   ],
   "source": [
    "# Write a function that returns the keys and values of a dictionary as two separate lists.\n",
    "def return_keys_and_values(dct:dict):\n",
    "    keys = dct.keys()\n",
    "    values = dct.values()\n",
    "    return list(keys), list(values)\n",
    "\n",
    "print(return_keys_and_values({101: 'a', 102: 'b', 103: 'c'}))"
   ]
  },
  {
   "cell_type": "code",
   "execution_count": 116,
   "id": "04e33f7e-8d2d-4149-84c9-b0b94bef608b",
   "metadata": {},
   "outputs": [
    {
     "name": "stdout",
     "output_type": "stream",
     "text": [
      "[('d', -23), ('b', 1), ('e', 2), ('z', 14), ('a', 23), ('c', 203), ('f', 243)]\n"
     ]
    }
   ],
   "source": [
    "# Sort a list of tuples based on the second element of each tuple.\n",
    "lst = [('a', 23),('b', 1),('e', 2),('d', -23),('f', 243),('c', 203),('z', 14),]\n",
    "lst.sort(key=lambda x: x[1])\n",
    "print(lst)"
   ]
  },
  {
   "cell_type": "code",
   "execution_count": 127,
   "id": "756b96ba-7b47-4aee-968d-debc90f1b61e",
   "metadata": {},
   "outputs": [
    {
     "name": "stdout",
     "output_type": "stream",
     "text": [
      "[101, 25]\n"
     ]
    }
   ],
   "source": [
    "# Write a function that takes a list of dictionaries and returns a list of values for a specific key.\n",
    "def list_of_values_for_key(key, lst:list):\n",
    "    listOfValues = []\n",
    "    for dct in lst:\n",
    "        if key in dct.keys():\n",
    "            listOfValues.append(dct[key])\n",
    "    return listOfValues\n",
    "\n",
    "result = list_of_values_for_key('id', [{'id':101, 'id2':11},{'id3':54}, {'id':25}])\n",
    "print(result)"
   ]
  },
  {
   "cell_type": "markdown",
   "id": "1ed124b3-f8c8-49a3-a889-b062c7c34b6c",
   "metadata": {},
   "source": [
    "# String Manipulation"
   ]
  },
  {
   "cell_type": "code",
   "execution_count": 128,
   "id": "e5429cd9-6aef-44a4-adbf-0570da505e5c",
   "metadata": {},
   "outputs": [
    {
     "name": "stdout",
     "output_type": "stream",
     "text": [
      "{'a': 7, 's': 3, 'o': 1, 'i': 2, 'j': 8, 'd': 3, 'p': 1}\n"
     ]
    }
   ],
   "source": [
    "# Count the number of times a character appears in a string.\n",
    "def count_char_occurance(string:str)-> None:\n",
    "    dct = {}\n",
    "    for char in string:\n",
    "        if char in dct:\n",
    "            dct[char] += 1\n",
    "        else:\n",
    "            dct[char] = 1\n",
    "    print(dct)\n",
    "count_char_occurance('asaoijijjajajajdasjdasjpd')"
   ]
  },
  {
   "cell_type": "code",
   "execution_count": 130,
   "id": "69c3375b-ef3e-4b2c-abee-9613b7550bd9",
   "metadata": {},
   "outputs": [
    {
     "name": "stdout",
     "output_type": "stream",
     "text": [
      "HoHdjasjdasjdjsHdasodjHsd\n"
     ]
    }
   ],
   "source": [
    "# Replace all occurrences of a substring in a string with another substring.\n",
    "def replace_substring(string:str, substring:str, replacewith:str) -> str:\n",
    "    return string.replace(substring, replacewith)\n",
    "\n",
    "print(replace_substring('ajoajdjasjdasjdjsajdasodjajsd', 'aj', 'H'))"
   ]
  },
  {
   "cell_type": "code",
   "execution_count": 132,
   "id": "ba4be4a7-7032-41de-9f29-041c672f1f9b",
   "metadata": {},
   "outputs": [
    {
     "name": "stdout",
     "output_type": "stream",
     "text": [
      "NAME, WHAT?\n",
      "name, what?\n"
     ]
    }
   ],
   "source": [
    "# Convert a string to uppercase and lowercase.\n",
    "def convert_string_to_uppercase_lowercase(string:str)->str:\n",
    "    upperCase = string.upper()\n",
    "    lowerCase = string.lower()\n",
    "    return upperCase, lowerCase\n",
    "upper, lower = convert_string_to_uppercase_lowercase('name, WHAT?')\n",
    "print(upper)\n",
    "print(lower)"
   ]
  },
  {
   "cell_type": "code",
   "execution_count": 133,
   "id": "42371cb9-dbf2-408f-a8e1-c83d92919725",
   "metadata": {},
   "outputs": [
    {
     "name": "stdout",
     "output_type": "stream",
     "text": [
      "['o', 'a', 'd', 'a', 'o', 'j', 'd', 'j', 'a', 'j', 'd', 'o', 'a', 'i', 's', 'j', 'd', 'a']\n"
     ]
    }
   ],
   "source": [
    "# Split a string into a list of words.\n",
    "def string_into_list_of_words(string:str)->list[str]:\n",
    "    return list(string)\n",
    "\n",
    "print(string_into_list_of_words('oadaojdjajdoaisjda'))"
   ]
  },
  {
   "cell_type": "code",
   "execution_count": 135,
   "id": "d189f9ac-7077-415a-866c-797ffe7e2132",
   "metadata": {},
   "outputs": [
    {
     "name": "stdout",
     "output_type": "stream",
     "text": [
      "o a d a o j d j a j d o a i s j d a\n"
     ]
    }
   ],
   "source": [
    "# Join a list of strings into a single string with spaces in between.\n",
    "lst = ['o', 'a', 'd', 'a', 'o', 'j', 'd', 'j', 'a', 'j', 'd', 'o', 'a', 'i', 's', 'j', 'd', 'a']\n",
    "print(' '.join(lst))"
   ]
  },
  {
   "cell_type": "code",
   "execution_count": 138,
   "id": "363c7098-1ec7-483b-8bd2-97a05e88f38a",
   "metadata": {},
   "outputs": [
    {
     "name": "stdout",
     "output_type": "stream",
     "text": [
      "occurrences\n"
     ]
    }
   ],
   "source": [
    "# Find the longest word in a string.\n",
    "def longest_word_in_string(string:str)->str:\n",
    "    listOfWord = string.split()\n",
    "    if listOfWord:\n",
    "        longestWord = listOfWord[0] \n",
    "        for word in listOfWord:\n",
    "            if len(word) > len(longestWord):\n",
    "                longestWord = word\n",
    "    return longestWord\n",
    "print(longest_word_in_string('Count the number of times a character appears in a string. Replace all occurrences of a substring in a string with anot'))"
   ]
  },
  {
   "cell_type": "code",
   "execution_count": 139,
   "id": "b2704629-cfb4-4929-8df1-dc18f8f06977",
   "metadata": {},
   "outputs": [
    {
     "name": "stdout",
     "output_type": "stream",
     "text": [
      "string. a in appears character a times of number the Count\n"
     ]
    }
   ],
   "source": [
    "# Reverse the order of words in a string.\n",
    "def reverse_word_order(string:str)->str:\n",
    "    listOfWord = string.split()\n",
    "    listOfWord.reverse()\n",
    "    return ' '.join(listOfWord)\n",
    "\n",
    "print(reverse_word_order('Count the number of times a character appears in a string.'))"
   ]
  },
  {
   "cell_type": "code",
   "execution_count": 140,
   "id": "3b296487-df23-4f94-b9f1-270d0f0d9fd7",
   "metadata": {},
   "outputs": [
    {
     "name": "stdout",
     "output_type": "stream",
     "text": [
      "adadj8302949032ajsjsaJS\n"
     ]
    }
   ],
   "source": [
    "# Write a function to remove all non-alphanumeric characters from a string.\n",
    "def keep_alphanumeric(string:str)->str:\n",
    "    listOfWord = string.split()\n",
    "    newString = ''\n",
    "    \n",
    "    for word in listOfWord:\n",
    "        for char in word:\n",
    "            if char.isalnum():\n",
    "                newString += char\n",
    "    return newString\n",
    "print(keep_alphanumeric('adadj8302949032ajs#$%jsaJS/*'))"
   ]
  },
  {
   "cell_type": "code",
   "execution_count": null,
   "id": "ba274d54-e00f-4b0f-9a71-b72e488a8b30",
   "metadata": {},
   "outputs": [],
   "source": []
  },
  {
   "cell_type": "markdown",
   "id": "ab7c401d-04b3-424c-87a1-499a08c62633",
   "metadata": {},
   "source": [
    "# File Handling"
   ]
  },
  {
   "cell_type": "code",
   "execution_count": 141,
   "id": "813e4876-09be-4cde-8d65-07f8538ac966",
   "metadata": {},
   "outputs": [
    {
     "name": "stdout",
     "output_type": "stream",
     "text": [
      "import random\n",
      "\n",
      "char_pool = [chr(x) for x in range(49, 127)]\n",
      "random.shuffle(char_pool)\n",
      "print(char_pool)\n",
      "\n",
      "print(''.join(random.sample(char_pool, 12)))\n"
     ]
    }
   ],
   "source": [
    "# Write a function to read a file and print its contents.\n",
    "def read_file(filepath:str)-> None:\n",
    "    with open(filepath, 'r') as fp:\n",
    "        data = fp.read()\n",
    "        print(data)\n",
    "read_file('password.py')"
   ]
  },
  {
   "cell_type": "code",
   "execution_count": 143,
   "id": "498c39da-4dfa-47cd-8b66-e188b5ad05e0",
   "metadata": {},
   "outputs": [],
   "source": [
    "# Write a function to write a list of strings to a file, each string on a new line.\n",
    "def to_file(filename, data)->bool:\n",
    "    with open(filename, 'w') as fp:\n",
    "        fp.writelines(data)\n",
    "\n",
    "to_file('sample.txt', ['1\\n', '2\\n', '3\\n'])"
   ]
  },
  {
   "cell_type": "code",
   "execution_count": 144,
   "id": "098513f4-bd20-4088-ac67-8522f614311e",
   "metadata": {},
   "outputs": [],
   "source": [
    "# Append a new line to an existing file.\n",
    "def append_to_existing_file(filename, data):\n",
    "    with open(filename, 'a') as fp:\n",
    "        fp.write(data)\n",
    "append_to_existing_file('sample.txt', '4\\n')"
   ]
  },
  {
   "cell_type": "code",
   "execution_count": 147,
   "id": "11c922e4-57b2-4301-be2f-2e1c6b431df5",
   "metadata": {},
   "outputs": [
    {
     "name": "stdout",
     "output_type": "stream",
     "text": [
      "4\n"
     ]
    }
   ],
   "source": [
    "# Count the number of lines in a file.\n",
    "def count_lines_in_file(filename):\n",
    "    with open(filename, 'r') as fp:\n",
    "        data = fp.readlines()\n",
    "    return len(data)\n",
    "print(count_lines_in_file('sample.txt'))"
   ]
  },
  {
   "cell_type": "code",
   "execution_count": 153,
   "id": "b60a65a3-d210-4002-8584-d98883055489",
   "metadata": {},
   "outputs": [],
   "source": [
    "# Write a function to find and replace a word in a file.\n",
    "def find_and_replace_word_from_file(filename, word, replace_with):\n",
    "    with open(filename, 'r') as fp:\n",
    "        data = fp.read().replace(word, replace_with)\n",
    "    with open(filename, 'w') as fp:\n",
    "        fp.write(data)\n",
    "\n",
    "find_and_replace_word_from_file('sample.txt', '4', '#')"
   ]
  },
  {
   "cell_type": "code",
   "execution_count": null,
   "id": "d1e63655-4b02-4c7b-ba74-9fd4014f2c87",
   "metadata": {},
   "outputs": [],
   "source": []
  }
 ],
 "metadata": {
  "kernelspec": {
   "display_name": "Python 3 (ipykernel)",
   "language": "python",
   "name": "python3"
  },
  "language_info": {
   "codemirror_mode": {
    "name": "ipython",
    "version": 3
   },
   "file_extension": ".py",
   "mimetype": "text/x-python",
   "name": "python",
   "nbconvert_exporter": "python",
   "pygments_lexer": "ipython3",
   "version": "3.11.5"
  },
  "widgets": {
   "application/vnd.jupyter.widget-state+json": {
    "state": {},
    "version_major": 2,
    "version_minor": 0
   }
  }
 },
 "nbformat": 4,
 "nbformat_minor": 5
}
