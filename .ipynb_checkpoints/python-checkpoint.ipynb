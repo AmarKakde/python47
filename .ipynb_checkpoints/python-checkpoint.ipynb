{
 "cells": [
  {
   "cell_type": "markdown",
   "id": "995e90f2-e0ce-4a6f-a1fc-b703c8623240",
   "metadata": {},
   "source": [
    "# Basic Data Types and Variables\n"
   ]
  },
  {
   "cell_type": "code",
   "execution_count": 3,
   "id": "6607556b-20a8-4fea-b4e9-b050adc26a99",
   "metadata": {},
   "outputs": [
    {
     "name": "stdout",
     "output_type": "stream",
     "text": [
      "Addition :78,Subtraction :-30,Multiplication :1296,Division :0.444\n"
     ]
    }
   ],
   "source": [
    "#Perform addition, subtraction, multiplication, and division with two numbers.\n",
    "\n",
    "num1 = 24\n",
    "num2 = 54\n",
    "\n",
    "addition, subtraction, multiplication, division = num1 + num2, num1 - num2, num1 * num2, num1 / num2\n",
    "print(\"Addition :{},Subtraction :{},Multiplication :{},Division :{}\".format(addition, subtraction, multiplication, round(division, 3)))"
   ]
  },
  {
   "cell_type": "code",
   "execution_count": 5,
   "id": "7815a7f0-e7c4-45ed-a744-14497cc8fad0",
   "metadata": {},
   "outputs": [
    {
     "name": "stdout",
     "output_type": "stream",
     "text": [
      "firstname lastname\n"
     ]
    }
   ],
   "source": [
    "# Concatenate two strings and print the result.\n",
    "string1 = 'firstname'\n",
    "string2 = 'lastname'\n",
    "\n",
    "fullname = string1 + \" \" + string2\n",
    "print(f'{fullname}')"
   ]
  },
  {
   "cell_type": "code",
   "execution_count": null,
   "id": "f50bd2cf-8b8c-4a8f-adc0-765517aef7a7",
   "metadata": {},
   "outputs": [],
   "source": []
  },
  {
   "cell_type": "code",
   "execution_count": null,
   "id": "2ab72142-f651-418c-a79b-98903dd9f0c2",
   "metadata": {},
   "outputs": [],
   "source": []
  },
  {
   "cell_type": "code",
   "execution_count": null,
   "id": "8dd5b265-9372-4eb4-882c-f9d222da9aac",
   "metadata": {},
   "outputs": [],
   "source": []
  }
 ],
 "metadata": {
  "kernelspec": {
   "display_name": "Python 3 (ipykernel)",
   "language": "python",
   "name": "python3"
  },
  "language_info": {
   "codemirror_mode": {
    "name": "ipython",
    "version": 3
   },
   "file_extension": ".py",
   "mimetype": "text/x-python",
   "name": "python",
   "nbconvert_exporter": "python",
   "pygments_lexer": "ipython3",
   "version": "3.11.5"
  },
  "widgets": {
   "application/vnd.jupyter.widget-state+json": {
    "state": {},
    "version_major": 2,
    "version_minor": 0
   }
  }
 },
 "nbformat": 4,
 "nbformat_minor": 5
}
