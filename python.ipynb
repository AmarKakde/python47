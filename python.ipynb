{
 "cells": [
  {
   "cell_type": "markdown",
   "id": "995e90f2-e0ce-4a6f-a1fc-b703c8623240",
   "metadata": {},
   "source": [
    "# Basic Data Types and Variables\n"
   ]
  },
  {
   "cell_type": "code",
   "execution_count": 3,
   "id": "6607556b-20a8-4fea-b4e9-b050adc26a99",
   "metadata": {},
   "outputs": [
    {
     "name": "stdout",
     "output_type": "stream",
     "text": [
      "Addition :78,Subtraction :-30,Multiplication :1296,Division :0.444\n"
     ]
    }
   ],
   "source": [
    "#Perform addition, subtraction, multiplication, and division with two numbers.\n",
    "\n",
    "num1 = 24\n",
    "num2 = 54\n",
    "\n",
    "addition, subtraction, multiplication, division = num1 + num2, num1 - num2, num1 * num2, num1 / num2\n",
    "print(\"Addition :{},Subtraction :{},Multiplication :{},Division :{}\".format(addition, subtraction, multiplication, round(division, 3)))"
   ]
  },
  {
   "cell_type": "code",
   "execution_count": 5,
   "id": "7815a7f0-e7c4-45ed-a744-14497cc8fad0",
   "metadata": {},
   "outputs": [
    {
     "name": "stdout",
     "output_type": "stream",
     "text": [
      "firstname lastname\n"
     ]
    }
   ],
   "source": [
    "# Concatenate two strings and print the result.\n",
    "string1 = 'firstname'\n",
    "string2 = 'lastname'\n",
    "\n",
    "fullname = string1 + \" \" + string2\n",
    "print(f'{fullname}')"
   ]
  },
  {
   "cell_type": "code",
   "execution_count": 17,
   "id": "f50bd2cf-8b8c-4a8f-adc0-765517aef7a7",
   "metadata": {},
   "outputs": [
    {
     "name": "stdout",
     "output_type": "stream",
     "text": [
      "numbers=[1, 2, 3, 4, 5, 6]\n",
      "numbers list : [1, 2, 3, 4, 5, 6, 10]\n",
      "Numbers List: [2, 3, 4, 5, 6, 10]\n"
     ]
    }
   ],
   "source": [
    "# Create a list of integers, append a number, remove a number, and print the list.\n",
    "numbers = [1,2,3,4,5,6]\n",
    "print(f'{numbers=}')\n",
    "\n",
    "numbers.append(10)\n",
    "print('numbers list : {}'.format(numbers))\n",
    "\n",
    "numbers.remove(1)\n",
    "print('Numbers List: {}'.format(numbers))"
   ]
  },
  {
   "cell_type": "code",
   "execution_count": 19,
   "id": "2ab72142-f651-418c-a79b-98903dd9f0c2",
   "metadata": {},
   "outputs": [
    {
     "name": "stdout",
     "output_type": "stream",
     "text": [
      "1\n",
      "2\n",
      "3\n",
      "4\n"
     ]
    }
   ],
   "source": [
    "# Create a tuple with four elements and print each element.\n",
    "numbers = (1,2,3,4,)\n",
    "\n",
    "print(numbers[0])\n",
    "print(numbers[1])\n",
    "print(numbers[2])\n",
    "print(numbers[3])"
   ]
  },
  {
   "cell_type": "code",
   "execution_count": 21,
   "id": "8dd5b265-9372-4eb4-882c-f9d222da9aac",
   "metadata": {},
   "outputs": [
    {
     "name": "stdout",
     "output_type": "stream",
     "text": [
      "dct={'id': 101, 'name': 'Bradd Brandon', 'age': 29}\n",
      "After update: dct={'id': 501, 'name': 'Bradd Brandon', 'age': 29}\n"
     ]
    }
   ],
   "source": [
    "# Create a dictionary with three key-value pairs and update one value.\n",
    "dct = {'id':101, 'name':'Bradd Brandon', 'age':29}\n",
    "print(f\"{dct=}\")\n",
    "dct['id'] = 501\n",
    "print(f'After update: {dct=}')"
   ]
  },
  {
   "cell_type": "code",
   "execution_count": 27,
   "id": "577ea605-e244-4429-b550-bc32544133c4",
   "metadata": {},
   "outputs": [
    {
     "name": "stdout",
     "output_type": "stream",
     "text": [
      "adadadaadjasodjajdadjasodjajsdasoidjas contains substring ad True\n"
     ]
    }
   ],
   "source": [
    "# Check if a string contains a specific substring.\n",
    "string1 = 'adadadaadjasodjajdadjasodjajsdasoidjas'\n",
    "result = string1.find('ad')\n",
    "print(f'{string1} contains substring ad {False if result == -1 else True}')"
   ]
  },
  {
   "cell_type": "code",
   "execution_count": null,
   "id": "dbf5fba9-249c-4349-a02b-d14b98d9f8db",
   "metadata": {},
   "outputs": [],
   "source": []
  },
  {
   "cell_type": "markdown",
   "id": "7a7a6478-08eb-41b6-b8b8-8f56b515d8b2",
   "metadata": {},
   "source": [
    "# Control Flow"
   ]
  },
  {
   "cell_type": "code",
   "execution_count": 28,
   "id": "3c0b3542-e38f-4597-b3af-a1ea38e512c2",
   "metadata": {},
   "outputs": [
    {
     "name": "stdout",
     "output_type": "stream",
     "text": [
      "Positive\n"
     ]
    }
   ],
   "source": [
    "# Check if a number is positive, negative, or zero using if-else statements.\n",
    "number = 23\n",
    "\n",
    "if number == 0:\n",
    "    print('Zero')\n",
    "elif result < 0:\n",
    "    print('Negative')\n",
    "else:\n",
    "    print('Positive')"
   ]
  },
  {
   "cell_type": "code",
   "execution_count": null,
   "id": "c468ba00-dfb5-418e-9937-867cc7c36a46",
   "metadata": {},
   "outputs": [],
   "source": []
  }
 ],
 "metadata": {
  "kernelspec": {
   "display_name": "Python 3 (ipykernel)",
   "language": "python",
   "name": "python3"
  },
  "language_info": {
   "codemirror_mode": {
    "name": "ipython",
    "version": 3
   },
   "file_extension": ".py",
   "mimetype": "text/x-python",
   "name": "python",
   "nbconvert_exporter": "python",
   "pygments_lexer": "ipython3",
   "version": "3.11.5"
  },
  "widgets": {
   "application/vnd.jupyter.widget-state+json": {
    "state": {},
    "version_major": 2,
    "version_minor": 0
   }
  }
 },
 "nbformat": 4,
 "nbformat_minor": 5
}
